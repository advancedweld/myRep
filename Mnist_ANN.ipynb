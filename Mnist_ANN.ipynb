{
 "cells": [
  {
   "cell_type": "code",
   "execution_count": 2,
   "metadata": {
    "collapsed": false
   },
   "outputs": [
    {
     "name": "stdout",
     "output_type": "stream",
     "text": [
      "Extracting F:\\ANN\\MNIST_data\\train-images-idx3-ubyte.gz\n",
      "Extracting F:\\ANN\\MNIST_data\\train-labels-idx1-ubyte.gz\n",
      "Extracting F:\\ANN\\MNIST_data\\t10k-images-idx3-ubyte.gz\n",
      "Extracting F:\\ANN\\MNIST_data\\t10k-labels-idx1-ubyte.gz\n"
     ]
    }
   ],
   "source": [
    "#s数据准备和各种库\n",
    "import tensorflow.compat.v1  as tf\n",
    "import matplotlib.pyplot as plt #载入matplot库\n",
    "###加这个，避免画图不显示\n",
    "%matplotlib inline \n",
    "import numpy as np\n",
    "#关闭急切执行模式\n",
    "tf.compat.v1.disable_eager_execution()\n",
    " \n",
    "from tensorflow.examples.tutorials.mnist import input_data \n",
    "mnist = input_data.read_data_sets(\"F:\\ANN\\MNIST_data\",one_hot = True)\n",
    "#mnist = tf.keras.datasets.mnist "
   ]
  },
  {
   "cell_type": "code",
   "execution_count": 3,
   "metadata": {
    "collapsed": true
   },
   "outputs": [],
   "source": [
    "#占位符\n",
    "x = tf.placeholder(tf.float32,[None,784],name=\"X\")  #每张图共有28*28=784个像素点\n",
    "y = tf.placeholder(tf.float32,[None,10],name=\"Y\")  #10个标签数据"
   ]
  },
  {
   "cell_type": "code",
   "execution_count": null,
   "metadata": {
    "collapsed": false
   },
   "outputs": [],
   "source": [
    "#输入层-隐藏层权重\n",
    "H1_NN = 256  #隐藏层神经元数量\n",
    "W1 = tf.Variable(tf.random_normal([784,H1_NN])) #正态分布随机数\n",
    "B1 = tf.Variable(tf.zeros([H1_NN])) \n",
    "\n",
    "#隐藏层-输出层权重\n",
    "W2 = tf.Variable(tf.random_normal([H1_NN,10])) #正态分布随机数\n",
    "B2 = tf.Variable(tf.zeros([10])) \n"
   ]
  },
  {
   "cell_type": "code",
   "execution_count": null,
   "metadata": {
    "collapsed": true
   },
   "outputs": [],
   "source": [
    "#计算\n",
    "#输入-隐藏层\n",
    "Y1 = tf.nn.relu(tf.matmul(x,W1)+B1)  #用到了relu激活函数\n",
    "\n",
    "#隐藏-输出层\n",
    "forward = tf.matmul(Y1,W2)+B2\n",
    "pred = tf.nn.softmax(forward)"
   ]
  },
  {
   "cell_type": "code",
   "execution_count": null,
   "metadata": {
    "collapsed": false
   },
   "outputs": [],
   "source": [
    "#交叉熵损失函数\n",
    "#平均交叉熵，该方法由于取对数容易导致在0附近数值不稳定\n",
    "#loss_function = tf.reduce_mean(-tf.reduce_sum(y*tf.log(pred), reduction_indices=1)）\n",
    "                            \n",
    "\n",
    "#新的损失函数定义方法,结合了softmax的交叉熵函数\n",
    "loss_function = tf.reduce_mean(tf.nn.softmax_cross_entropy_with_logits(logits=forward,labels=y))"
   ]
  },
  {
   "cell_type": "code",
   "execution_count": null,
   "metadata": {
    "collapsed": false
   },
   "outputs": [],
   "source": [
    "#设置训练超参数\n",
    "train_epochs = 100 #超参数，训练次数\n",
    "learning_rate   = 0.01  #学习率\n",
    "batch_size = 50 #单次训练次数\n",
    "total_batch = int(mnist.train.num_examples/batch_size) #训练数据总批数\n",
    "display_step =2 #显示粒度\n",
    "\n",
    "#定义梯度下降优化器，采用Adam优化法\n",
    "optimizer = tf.train.AdamOptimizer(learning_rate).minimize(loss_function)\n",
    "#随机梯度下降优化SGD\n",
    "#optimizer = tf.train.GradientDescentOptimizer(learning_rate).minimize(loss_function)\n",
    "\n",
    "#定义准确率\n",
    "#pred应该型如【0.01,0.8,0.07,0.02,0.03,0.02,0.01，0.02，0.01,0.01】这种按概率分布的值，通过argmax转换为【0:9】对应的值\n",
    "correct_pretiction = tf.equal(tf.argmax(pred,1),tf.argmax(y,1))  #相等为真，不相等为假\n",
    "accuracy = tf.reduce_mean(tf.cast(correct_pretiction,tf.float32))    #布尔值转换为浮点数，并计算平均值"
   ]
  },
  {
   "cell_type": "code",
   "execution_count": null,
   "metadata": {
    "collapsed": false
   },
   "outputs": [],
   "source": [
    "from time import time\n",
    "start_time = time() #记录开始时间\n",
    "#创建会话，开始运行\n",
    "sess = tf.Session()\n",
    "init = tf.global_variables_initializer()\n",
    "sess.run(init)\n",
    "acc_list = [] #记录每轮准确率\n",
    "loss_list = []\n",
    "#开始训练\n",
    "\n",
    "for epoch in range(train_epochs):# 每一轮\n",
    "    for batch in range(total_batch):  #按批次训练\n",
    "        xs,ys = mnist.train.next_batch(batch_size)  #按批次读取数据\n",
    "        _ = sess.run(optimizer,feed_dict={x:xs,y:ys})  #填充占位符变量\n",
    "        \n",
    "    #每轮训练完后利用验证集验证\n",
    "    loss,acc = sess.run([loss_function,accuracy],\n",
    "                       feed_dict= {x:mnist.validation.images,y:mnist.validation.labels})\n",
    "    #准确率添加到列表\n",
    "    acc_list.append(acc)\n",
    "    loss_list.append(loss)\n",
    "    if (epoch+1)%display_step == 0:\n",
    "        print(\"epochs : \",\"%02d\" % (epoch+1),\\\n",
    "              \"loss=:\",\"{:.9f}\".format(loss),\\\n",
    "             \"accury=:\",\"{:.4f}\".format(acc))\n",
    "        \n",
    "#画图可视化\n",
    "#import matplotlib.pyplot as plt #载入matplot库\n",
    "duration = time()-start_time #训练时间，显示\n",
    "#plt.plot(acc_list,\"r+\")\n",
    "plt.plot(acc_list)\n",
    "plt.plot(loss_list)\n",
    "print(\"train finished!\",\"{:.4f}\".format(duration))"
   ]
  },
  {
   "cell_type": "code",
   "execution_count": null,
   "metadata": {
    "collapsed": false
   },
   "outputs": [],
   "source": [
    "#测试集\n",
    "acu_test = sess.run(accuracy,feed_dict= {x:mnist.test.images,y:mnist.test.labels})\n",
    "print(\"Test accuracy:\",acu_test)"
   ]
  },
  {
   "cell_type": "code",
   "execution_count": null,
   "metadata": {
    "collapsed": false
   },
   "outputs": [],
   "source": [
    "#找出错误预测\n",
    "prediction_result = sess.run(tf.argmax(pred,1), feed_dict= {x:mnist.test.images})\n",
    "compare_list = prediction_result==np.argmax(mnist.test.labels,1)\n",
    "#print(compare_list)\n",
    "err_list = [i for i in range(len(compare_list)) if compare_list[i]==False]\n",
    "print(err_list,len(err_list))\n"
   ]
  }
 ],
 "metadata": {
  "anaconda-cloud": {},
  "kernelspec": {
   "display_name": "Python [conda root]",
   "language": "python",
   "name": "conda-root-py"
  },
  "language_info": {
   "codemirror_mode": {
    "name": "ipython",
    "version": 3
   },
   "file_extension": ".py",
   "mimetype": "text/x-python",
   "name": "python",
   "nbconvert_exporter": "python",
   "pygments_lexer": "ipython3",
   "version": "3.5.2"
  }
 },
 "nbformat": 4,
 "nbformat_minor": 1
}
